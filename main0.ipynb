{
 "cells": [
  {
   "cell_type": "code",
   "execution_count": 1,
   "metadata": {
    "collapsed": true,
    "deletable": true,
    "editable": true
   },
   "outputs": [],
   "source": [
    "from __future__ import print_function\n",
    "import pandas as pd;\n",
    "import pickle \n",
    "import numpy as np;\n",
    "from tqdm import tqdm_notebook"
   ]
  },
  {
   "cell_type": "code",
   "execution_count": 3,
   "metadata": {
    "collapsed": false,
    "deletable": true,
    "editable": true
   },
   "outputs": [
    {
     "name": "stdout",
     "output_type": "stream",
     "text": [
      "(1665298, 33)\n",
      "(1787571, 33)\n"
     ]
    }
   ],
   "source": [
    "#объединили тест и трейн\n",
    "train = pd.read_csv('../input/train.csv',sep = ',')\n",
    "test = pd.read_csv('../input/test.csv',sep = ',')\n",
    "sample2submit = pd.read_csv('../input/sample2submit.csv',sep = ',')\n",
    "y = train.pop('DEF')\n",
    "print(test.shape)\n",
    "print(train.shape)\n",
    "train['y'] = y\n",
    "test['y'] = -1\n",
    "data = train.copy()\n",
    "data = data.append(test,ignore_index= True)"
   ]
  },
  {
   "cell_type": "code",
   "execution_count": 4,
   "metadata": {
    "collapsed": false,
    "deletable": true,
    "editable": true
   },
   "outputs": [
    {
     "data": {
      "application/vnd.jupyter.widget-view+json": {
       "model_id": "f959db50175d4a189299bcb61584cee8"
      }
     },
     "metadata": {},
     "output_type": "display_data"
    },
    {
     "name": "stdout",
     "output_type": "stream",
     "text": [
      "\n"
     ]
    }
   ],
   "source": [
    "#я выяснил, что самый достоверный источкик, это источник номер 4, потом идет номер 1, затем 2, и самый недостоверный номер 3\n",
    "#поэтому, мы проходимся по всем кредитам, и смотрим, если есть запись об этом кредите в источнике 4, то будем использовать ее,\n",
    "#если в источнике 4 ее нет, то используем первый, а если и первого нет, то будем использовать 2, а если 2 нет, то третий.\n",
    "groupby = data.groupby([\"ID\",\"DTIME_CREDIT\"])\n",
    "arr = []\n",
    "for block_id in tqdm_notebook(groupby.groups):\n",
    "    group = groupby.get_group(block_id)\n",
    "    if 4 in list(group['NUM_SOURCE']):\n",
    "        arr.append(group[group['NUM_SOURCE'] == 4].index[0])\n",
    "    elif 1 in list(group['NUM_SOURCE']):\n",
    "        arr.append(group[group['NUM_SOURCE'] == 1].index[0])\n",
    "    elif 2 in list(group['NUM_SOURCE']):\n",
    "        arr.append(group[group['NUM_SOURCE'] == 2].index[0])\n",
    "    else:\n",
    "        arr.append(group.index[0])"
   ]
  },
  {
   "cell_type": "code",
   "execution_count": 8,
   "metadata": {
    "collapsed": true,
    "deletable": true,
    "editable": true
   },
   "outputs": [],
   "source": [
    "#сохраним индексы\n",
    "with open('../data/arr_k4_1_2.pickle', 'wb') as f:\n",
    "    pickle.dump(arr, f)"
   ]
  }
 ],
 "metadata": {
  "kernelspec": {
   "display_name": "Python 2",
   "language": "python",
   "name": "python2"
  },
  "language_info": {
   "codemirror_mode": {
    "name": "ipython",
    "version": 2
   },
   "file_extension": ".py",
   "mimetype": "text/x-python",
   "name": "python",
   "nbconvert_exporter": "python",
   "pygments_lexer": "ipython2",
   "version": "2.7.13"
  }
 },
 "nbformat": 4,
 "nbformat_minor": 2
}
