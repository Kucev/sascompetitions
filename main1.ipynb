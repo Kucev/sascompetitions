{
 "cells": [
  {
   "cell_type": "code",
   "execution_count": 1,
   "metadata": {
    "collapsed": true,
    "deletable": true,
    "editable": true
   },
   "outputs": [],
   "source": [
    "from __future__ import print_function\n",
    "import pandas as pd;\n",
    "import numpy as np;\n",
    "import pickle\n",
    "%matplotlib inline"
   ]
  },
  {
   "cell_type": "code",
   "execution_count": 2,
   "metadata": {
    "collapsed": false,
    "deletable": true,
    "editable": true
   },
   "outputs": [
    {
     "name": "stdout",
     "output_type": "stream",
     "text": [
      "CPU times: user 23.6 s, sys: 1.49 s, total: 25.1 s\n",
      "Wall time: 25.2 s\n"
     ]
    }
   ],
   "source": [
    "%%time\n",
    "#считаем трейн и тест и выберем только те индексы, которые мы отобрали в прошлом блокноте.\n",
    "#Т.е в нашей data теперь есть информация о кредите ровно из одного источкника\n",
    "train = pd.read_csv('input/train.csv',sep = ',')\n",
    "test = pd.read_csv('input/test.csv',sep = ',')\n",
    "sample2submit = pd.read_csv('input/sample2submit.csv',sep = ',')\n",
    "y = train.pop('DEF')\n",
    "train['y'] = y\n",
    "test['y'] = -1\n",
    "data = train\n",
    "data = data.append(test,ignore_index= True)\n",
    "with open('data/arr_k4_1_2.pickle', 'rb') as f:\n",
    "    arr = pickle.load(f)\n",
    "data = data.loc[arr]"
   ]
  },
  {
   "cell_type": "code",
   "execution_count": 3,
   "metadata": {
    "collapsed": true,
    "deletable": true,
    "editable": true
   },
   "outputs": [],
   "source": [
    "#преобразовали дату в нужый формат\n",
    "data['SK_DATE_DECISION'] = pd.to_datetime(data['SK_DATE_DECISION'], format='%Y%m%d')\n",
    "data['DTIME_CREDIT'] = pd.to_datetime(data['DTIME_CREDIT'], format='%d.%m.%Y')\n",
    "data['DTIME_CREDIT_ENDDATE'] = pd.to_datetime(data['DTIME_CREDIT_ENDDATE'], format='%d.%m.%Y')\n",
    "data['DTIME_CREDIT_ENDDATE_FACT'] = pd.to_datetime(data['DTIME_CREDIT_ENDDATE_FACT'], format='%d.%m.%Y')\n",
    "data['DTIME_CREDIT_UPDATE'] = pd.to_datetime(data['DTIME_CREDIT_UPDATE'], format='%d.%m.%Y')"
   ]
  },
  {
   "cell_type": "code",
   "execution_count": 4,
   "metadata": {
    "collapsed": false,
    "deletable": true,
    "editable": true
   },
   "outputs": [],
   "source": [
    "#попробовали уменьшить датасет\n",
    "for i in data.columns:\n",
    "    if (data[i].dtype == np.int64) and (data[i].max() < 127) and (data[i].min() > -126) and (len(data[i].value_counts()) < 120):\n",
    "        data[i] = data[i].astype(np.int8)"
   ]
  },
  {
   "cell_type": "code",
   "execution_count": 48,
   "metadata": {
    "collapsed": true,
    "deletable": true,
    "editable": true
   },
   "outputs": [],
   "source": [
    "#сохранили в pickle.\n",
    "with open('Rdata.pickle', 'wb') as f:\n",
    "    pickle.dump(data, f)"
   ]
  }
 ],
 "metadata": {
  "kernelspec": {
   "display_name": "Python 2",
   "language": "python",
   "name": "python2"
  },
  "language_info": {
   "codemirror_mode": {
    "name": "ipython",
    "version": 2
   },
   "file_extension": ".py",
   "mimetype": "text/x-python",
   "name": "python",
   "nbconvert_exporter": "python",
   "pygments_lexer": "ipython2",
   "version": "2.7.13"
  }
 },
 "nbformat": 4,
 "nbformat_minor": 2
}
